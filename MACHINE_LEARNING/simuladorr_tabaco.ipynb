{
 "cells": [
  {
   "cell_type": "code",
   "execution_count": 24,
   "id": "initial_id",
   "metadata": {
    "collapsed": true,
    "ExecuteTime": {
     "end_time": "2024-06-23T11:13:02.270376900Z",
     "start_time": "2024-06-23T11:13:01.839029600Z"
    }
   },
   "outputs": [
    {
     "data": {
      "text/plain": "       Tipo Fumador  Frecuencia  Cantidad\n0            Social           0         1\n1           Regular          19        15\n2        Muy pesado          58        56\n3            Pesado          22        37\n4          Moderado           8         6\n..              ...         ...       ...\n295      Muy pesado          47        42\n296  Ocasional leve           0         0\n297        Moderado           5        14\n298      Muy pesado          41        55\n299        Moderado           7         6\n\n[300 rows x 3 columns]",
      "text/html": "<div>\n<style scoped>\n    .dataframe tbody tr th:only-of-type {\n        vertical-align: middle;\n    }\n\n    .dataframe tbody tr th {\n        vertical-align: top;\n    }\n\n    .dataframe thead th {\n        text-align: right;\n    }\n</style>\n<table border=\"1\" class=\"dataframe\">\n  <thead>\n    <tr style=\"text-align: right;\">\n      <th></th>\n      <th>Tipo Fumador</th>\n      <th>Frecuencia</th>\n      <th>Cantidad</th>\n    </tr>\n  </thead>\n  <tbody>\n    <tr>\n      <th>0</th>\n      <td>Social</td>\n      <td>0</td>\n      <td>1</td>\n    </tr>\n    <tr>\n      <th>1</th>\n      <td>Regular</td>\n      <td>19</td>\n      <td>15</td>\n    </tr>\n    <tr>\n      <th>2</th>\n      <td>Muy pesado</td>\n      <td>58</td>\n      <td>56</td>\n    </tr>\n    <tr>\n      <th>3</th>\n      <td>Pesado</td>\n      <td>22</td>\n      <td>37</td>\n    </tr>\n    <tr>\n      <th>4</th>\n      <td>Moderado</td>\n      <td>8</td>\n      <td>6</td>\n    </tr>\n    <tr>\n      <th>...</th>\n      <td>...</td>\n      <td>...</td>\n      <td>...</td>\n    </tr>\n    <tr>\n      <th>295</th>\n      <td>Muy pesado</td>\n      <td>47</td>\n      <td>42</td>\n    </tr>\n    <tr>\n      <th>296</th>\n      <td>Ocasional leve</td>\n      <td>0</td>\n      <td>0</td>\n    </tr>\n    <tr>\n      <th>297</th>\n      <td>Moderado</td>\n      <td>5</td>\n      <td>14</td>\n    </tr>\n    <tr>\n      <th>298</th>\n      <td>Muy pesado</td>\n      <td>41</td>\n      <td>55</td>\n    </tr>\n    <tr>\n      <th>299</th>\n      <td>Moderado</td>\n      <td>7</td>\n      <td>6</td>\n    </tr>\n  </tbody>\n</table>\n<p>300 rows × 3 columns</p>\n</div>"
     },
     "execution_count": 24,
     "metadata": {},
     "output_type": "execute_result"
    }
   ],
   "source": [
    "import numpy as np\n",
    "import pandas as pd\n",
    "\n",
    "# Configuración de parámetros\n",
    "num_samples = 1000\n",
    "\n",
    "# Definición de funciones para generar datos simulados para diferentes tipos de fumadores\n",
    "def generar_datos_fumador_no():\n",
    "    # Para un no fumador, devolvemos explícitamente 0 en frecuencia y cantidad\n",
    "    frecuencia = 0\n",
    "    cantidad = 0\n",
    "    return frecuencia, cantidad\n",
    "\n",
    "def generar_datos_fumador_ocasional_leve():\n",
    "    frecuencia = np.random.choice([0, 1], p=[0.8, 0.2])  # Fuma ocasionalmente\n",
    "    cantidad = np.random.choice([0, 1], p=[0.9, 0.1])    # Pocos cigarrillos si fuma\n",
    "    return frecuencia, cantidad\n",
    "\n",
    "def generar_datos_fumador_social():\n",
    "    frecuencia = np.random.choice([0, 1], p=[0.5, 0.5])  # Fuma con frecuencia moderada\n",
    "    cantidad = np.random.choice([1, 2, 3, 4, 5], p=[0.4, 0.2, 0.2, 0.1, 0.1])  # Varía la cantidad en eventos sociales\n",
    "    return frecuencia, cantidad\n",
    "\n",
    "def generar_datos_fumador_moderado():\n",
    "    frecuencia = np.random.randint(1, 10)  # Frecuencia diaria de fumar\n",
    "    cantidad = np.random.randint(5, 15)   # Número de cigarrillos por día\n",
    "    return frecuencia, cantidad\n",
    "\n",
    "def generar_datos_fumador_regular():\n",
    "    frecuencia = np.random.randint(10, 20)  # Frecuencia diaria de fumar\n",
    "    cantidad = np.random.randint(15, 25)    # Número de cigarrillos por día\n",
    "    return frecuencia, cantidad\n",
    "\n",
    "def generar_datos_fumador_pesado():\n",
    "    frecuencia = np.random.randint(20, 40)  # Frecuencia diaria de fumar\n",
    "    cantidad = np.random.randint(25, 40)    # Número de cigarrillos por día\n",
    "    return frecuencia, cantidad\n",
    "\n",
    "def generar_datos_fumador_muy_pesado():\n",
    "    frecuencia = np.random.randint(40, 60)  # Frecuencia diaria de fumar\n",
    "    cantidad = np.random.randint(40, 60)    # Número de cigarrillos por día\n",
    "    return frecuencia, cantidad\n",
    "\n",
    "# Listas para almacenar los datos generados\n",
    "tipos_fumador = []\n",
    "frecuencias = []\n",
    "cantidades = []\n",
    "\n",
    "# Generar datos para 1000 muestras\n",
    "for _ in range(num_samples):\n",
    "    tipo_fumador = np.random.choice(['No fumador', 'Ocasional leve', 'Social', 'Moderado', 'Regular', 'Pesado', 'Muy pesado'], \n",
    "                                    p=[0.2, 0.1, 0.1, 0.15, 0.15, 0.15, 0.15])\n",
    "    \n",
    "    if tipo_fumador == 'No fumador':\n",
    "        frecuencia, cantidad = generar_datos_fumador_no()\n",
    "    elif tipo_fumador == 'Ocasional leve':\n",
    "        frecuencia, cantidad = generar_datos_fumador_ocasional_leve()\n",
    "    elif tipo_fumador == 'Social':\n",
    "        frecuencia, cantidad = generar_datos_fumador_social()\n",
    "    elif tipo_fumador == 'Moderado':\n",
    "        frecuencia, cantidad = generar_datos_fumador_moderado()\n",
    "    elif tipo_fumador == 'Regular':\n",
    "        frecuencia, cantidad = generar_datos_fumador_regular()\n",
    "    elif tipo_fumador == 'Pesado':\n",
    "        frecuencia, cantidad = generar_datos_fumador_pesado()\n",
    "    elif tipo_fumador == 'Muy pesado':\n",
    "        frecuencia, cantidad = generar_datos_fumador_muy_pesado()\n",
    "    \n",
    "    tipos_fumador.append(tipo_fumador)\n",
    "    frecuencias.append(frecuencia)\n",
    "    cantidades.append(cantidad)\n",
    "\n",
    "# Crear DataFrame con los datos generados\n",
    "data = {\n",
    "    'Tipo Fumador': tipos_fumador,\n",
    "    'Frecuencia': frecuencias,\n",
    "    'Cantidad': cantidades\n",
    "}\n",
    "\n",
    "df = pd.DataFrame(data)\n",
    "\n",
    "# Mostrar las primeras filas del DataFrame generado\n",
    "df.head(300)"
   ]
  },
  {
   "cell_type": "code",
   "execution_count": 25,
   "outputs": [
    {
     "name": "stdout",
     "output_type": "stream",
     "text": [
      "Número total de individuos: 1000\n",
      "Número de No fumadores: 207\n",
      "Número de No fumadores con 0 en frecuencia o cantidad: 207\n"
     ]
    }
   ],
   "source": [
    "\n",
    "\n",
    "# Filtrar el DataFrame para No fumadores con 0 en frecuencia o cantidad\n",
    "no_fumadores_con_cero = df[(df['Tipo Fumador'] == 'No fumador') & ((df['Frecuencia'] == 0) | (df['Cantidad'] == 0))]\n",
    "\n",
    "# Contar cuántos no fumadores tienen 0 en frecuencia o cantidad\n",
    "num_no_fumadores_cero = len(no_fumadores_con_cero)\n",
    "\n",
    "# Mostrar resultados\n",
    "print(f\"Número total de individuos: {len(df)}\")\n",
    "print(f\"Número de No fumadores: {len(df[df['Tipo Fumador'] == 'No fumador'])}\")\n",
    "print(f\"Número de No fumadores con 0 en frecuencia o cantidad: {num_no_fumadores_cero}\")"
   ],
   "metadata": {
    "collapsed": false,
    "ExecuteTime": {
     "end_time": "2024-06-23T11:16:49.214260500Z",
     "start_time": "2024-06-23T11:16:48.971053900Z"
    }
   },
   "id": "a39ee82dd5f70486"
  },
  {
   "cell_type": "code",
   "execution_count": 26,
   "outputs": [],
   "source": [
    "import pandas as pd\n",
    "from sklearn.ensemble import RandomForestClassifier\n",
    "from sklearn.model_selection import train_test_split\n",
    "from sklearn.metrics import accuracy_score, classification_report, confusion_matrix\n"
   ],
   "metadata": {
    "collapsed": false,
    "ExecuteTime": {
     "end_time": "2024-06-23T11:25:28.430731800Z",
     "start_time": "2024-06-23T11:25:22.703345300Z"
    }
   },
   "id": "5f22f08008fd6ea5"
  },
  {
   "cell_type": "code",
   "execution_count": 27,
   "outputs": [
    {
     "name": "stdout",
     "output_type": "stream",
     "text": [
      "Precisión del modelo: 0.94\n",
      "Matriz de Confusión:\n",
      "[[28  0  0  0  0  0  0]\n",
      " [ 0 35  0  0  0  0  0]\n",
      " [ 0  0 45  0  0  0  0]\n",
      " [ 0  0 11  4  0  0  2]\n",
      " [ 0  0  0  0 31  0  0]\n",
      " [ 0  0  0  0  0 30  0]\n",
      " [ 0  0  0  0  0  0 14]]\n",
      "Reporte de Clasificación:\n",
      "                precision    recall  f1-score   support\n",
      "\n",
      "      Moderado       1.00      1.00      1.00        28\n",
      "    Muy pesado       1.00      1.00      1.00        35\n",
      "    No fumador       0.80      1.00      0.89        45\n",
      "Ocasional leve       1.00      0.24      0.38        17\n",
      "        Pesado       1.00      1.00      1.00        31\n",
      "       Regular       1.00      1.00      1.00        30\n",
      "        Social       0.88      1.00      0.93        14\n",
      "\n",
      "      accuracy                           0.94       200\n",
      "     macro avg       0.95      0.89      0.89       200\n",
      "  weighted avg       0.95      0.94      0.92       200\n"
     ]
    }
   ],
   "source": [
    "# Dividir características y etiquetas\n",
    "X = df[['Frecuencia', 'Cantidad']]\n",
    "y = df['Tipo Fumador']\n",
    "\n",
    "# Dividir los datos en conjunto de entrenamiento y prueba\n",
    "X_train, X_test, y_train, y_test = train_test_split(X, y, test_size=0.2, random_state=42)\n",
    "\n",
    "# Definir el modelo de Random Forest con hiperparámetros ajustados\n",
    "rf = RandomForestClassifier(n_estimators=300, \n",
    "                            max_depth=30, \n",
    "                            min_samples_split=5, \n",
    "                            min_samples_leaf=1, \n",
    "                            max_features='sqrt',\n",
    "                            random_state=42)\n",
    "\n",
    "# Entrenar el modelo\n",
    "rf.fit(X_train, y_train)\n",
    "\n",
    "# Hacer predicciones\n",
    "y_pred = rf.predict(X_test)\n",
    "\n",
    "# Evaluar el modelo\n",
    "accuracy = accuracy_score(y_test, y_pred)\n",
    "print(f'Precisión del modelo: {accuracy:.2f}')\n",
    "\n",
    "# Matriz de confusión\n",
    "print('Matriz de Confusión:')\n",
    "print(confusion_matrix(y_test, y_pred))\n",
    "\n",
    "# Reporte de clasificación\n",
    "print('Reporte de Clasificación:')\n",
    "print(classification_report(y_test, y_pred))"
   ],
   "metadata": {
    "collapsed": false,
    "ExecuteTime": {
     "end_time": "2024-06-23T11:27:01.038606300Z",
     "start_time": "2024-06-23T11:27:00.107871200Z"
    }
   },
   "id": "12beab519ca3c337"
  }
 ],
 "metadata": {
  "kernelspec": {
   "display_name": "Python 3",
   "language": "python",
   "name": "python3"
  },
  "language_info": {
   "codemirror_mode": {
    "name": "ipython",
    "version": 2
   },
   "file_extension": ".py",
   "mimetype": "text/x-python",
   "name": "python",
   "nbconvert_exporter": "python",
   "pygments_lexer": "ipython2",
   "version": "2.7.6"
  }
 },
 "nbformat": 4,
 "nbformat_minor": 5
}
