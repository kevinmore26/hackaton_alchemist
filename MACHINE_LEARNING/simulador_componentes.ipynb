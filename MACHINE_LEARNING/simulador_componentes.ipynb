{
 "cells": [
  {
   "cell_type": "code",
   "execution_count": 19,
   "id": "initial_id",
   "metadata": {
    "collapsed": true,
    "ExecuteTime": {
     "end_time": "2024-06-23T16:18:36.271258800Z",
     "start_time": "2024-06-23T16:18:36.230596300Z"
    }
   },
   "outputs": [
    {
     "data": {
      "text/plain": "     feelings  lifestyle  body  movement  nutrition  obesity  sleep  wellness  \\\n0         877        542   318         1        922      332    654        74   \n1         826       1000   531       861        691      319    705       332   \n2           1        545   678       817        127      662    710       746   \n3         458        402   793       516        394      617    420         1   \n4        1000        968    64       716        883      221   1000       596   \n..        ...        ...   ...       ...        ...      ...    ...       ...   \n995       975        800   540       396        779     1000    556      1000   \n996         1          1   734       176        430      479    667       635   \n997       359        340   541       518        102     1000    398       803   \n998       619        720   703       224        301       98    576       390   \n999       366        294    41       233        379      474    327       588   \n\n     stress  depression  platform  indulgences  mindfulness  smoking  drive  \\\n0       936         336       829          414         1000      167    746   \n1       599         788       728          634          745     1000   1000   \n2      1000         984       439          620          351      743   1000   \n3       725         488       394          583          419      332    594   \n4       529         349       883         1000          906      850    466   \n..      ...         ...       ...          ...          ...      ...    ...   \n995     354         514       172          787         1000      608   1000   \n996     364         877       642          117          369      436    505   \n997     136         648       548         1000          502      902   1000   \n998     823         896       705          415          239      461    383   \n999      50         698       362          511          220      803    438   \n\n     activity  \n0         495  \n1         101  \n2        1000  \n3         200  \n4         709  \n..        ...  \n995       207  \n996      1000  \n997       639  \n998       525  \n999       919  \n\n[1000 rows x 16 columns]",
      "text/html": "<div>\n<style scoped>\n    .dataframe tbody tr th:only-of-type {\n        vertical-align: middle;\n    }\n\n    .dataframe tbody tr th {\n        vertical-align: top;\n    }\n\n    .dataframe thead th {\n        text-align: right;\n    }\n</style>\n<table border=\"1\" class=\"dataframe\">\n  <thead>\n    <tr style=\"text-align: right;\">\n      <th></th>\n      <th>feelings</th>\n      <th>lifestyle</th>\n      <th>body</th>\n      <th>movement</th>\n      <th>nutrition</th>\n      <th>obesity</th>\n      <th>sleep</th>\n      <th>wellness</th>\n      <th>stress</th>\n      <th>depression</th>\n      <th>platform</th>\n      <th>indulgences</th>\n      <th>mindfulness</th>\n      <th>smoking</th>\n      <th>drive</th>\n      <th>activity</th>\n    </tr>\n  </thead>\n  <tbody>\n    <tr>\n      <th>0</th>\n      <td>877</td>\n      <td>542</td>\n      <td>318</td>\n      <td>1</td>\n      <td>922</td>\n      <td>332</td>\n      <td>654</td>\n      <td>74</td>\n      <td>936</td>\n      <td>336</td>\n      <td>829</td>\n      <td>414</td>\n      <td>1000</td>\n      <td>167</td>\n      <td>746</td>\n      <td>495</td>\n    </tr>\n    <tr>\n      <th>1</th>\n      <td>826</td>\n      <td>1000</td>\n      <td>531</td>\n      <td>861</td>\n      <td>691</td>\n      <td>319</td>\n      <td>705</td>\n      <td>332</td>\n      <td>599</td>\n      <td>788</td>\n      <td>728</td>\n      <td>634</td>\n      <td>745</td>\n      <td>1000</td>\n      <td>1000</td>\n      <td>101</td>\n    </tr>\n    <tr>\n      <th>2</th>\n      <td>1</td>\n      <td>545</td>\n      <td>678</td>\n      <td>817</td>\n      <td>127</td>\n      <td>662</td>\n      <td>710</td>\n      <td>746</td>\n      <td>1000</td>\n      <td>984</td>\n      <td>439</td>\n      <td>620</td>\n      <td>351</td>\n      <td>743</td>\n      <td>1000</td>\n      <td>1000</td>\n    </tr>\n    <tr>\n      <th>3</th>\n      <td>458</td>\n      <td>402</td>\n      <td>793</td>\n      <td>516</td>\n      <td>394</td>\n      <td>617</td>\n      <td>420</td>\n      <td>1</td>\n      <td>725</td>\n      <td>488</td>\n      <td>394</td>\n      <td>583</td>\n      <td>419</td>\n      <td>332</td>\n      <td>594</td>\n      <td>200</td>\n    </tr>\n    <tr>\n      <th>4</th>\n      <td>1000</td>\n      <td>968</td>\n      <td>64</td>\n      <td>716</td>\n      <td>883</td>\n      <td>221</td>\n      <td>1000</td>\n      <td>596</td>\n      <td>529</td>\n      <td>349</td>\n      <td>883</td>\n      <td>1000</td>\n      <td>906</td>\n      <td>850</td>\n      <td>466</td>\n      <td>709</td>\n    </tr>\n    <tr>\n      <th>...</th>\n      <td>...</td>\n      <td>...</td>\n      <td>...</td>\n      <td>...</td>\n      <td>...</td>\n      <td>...</td>\n      <td>...</td>\n      <td>...</td>\n      <td>...</td>\n      <td>...</td>\n      <td>...</td>\n      <td>...</td>\n      <td>...</td>\n      <td>...</td>\n      <td>...</td>\n      <td>...</td>\n    </tr>\n    <tr>\n      <th>995</th>\n      <td>975</td>\n      <td>800</td>\n      <td>540</td>\n      <td>396</td>\n      <td>779</td>\n      <td>1000</td>\n      <td>556</td>\n      <td>1000</td>\n      <td>354</td>\n      <td>514</td>\n      <td>172</td>\n      <td>787</td>\n      <td>1000</td>\n      <td>608</td>\n      <td>1000</td>\n      <td>207</td>\n    </tr>\n    <tr>\n      <th>996</th>\n      <td>1</td>\n      <td>1</td>\n      <td>734</td>\n      <td>176</td>\n      <td>430</td>\n      <td>479</td>\n      <td>667</td>\n      <td>635</td>\n      <td>364</td>\n      <td>877</td>\n      <td>642</td>\n      <td>117</td>\n      <td>369</td>\n      <td>436</td>\n      <td>505</td>\n      <td>1000</td>\n    </tr>\n    <tr>\n      <th>997</th>\n      <td>359</td>\n      <td>340</td>\n      <td>541</td>\n      <td>518</td>\n      <td>102</td>\n      <td>1000</td>\n      <td>398</td>\n      <td>803</td>\n      <td>136</td>\n      <td>648</td>\n      <td>548</td>\n      <td>1000</td>\n      <td>502</td>\n      <td>902</td>\n      <td>1000</td>\n      <td>639</td>\n    </tr>\n    <tr>\n      <th>998</th>\n      <td>619</td>\n      <td>720</td>\n      <td>703</td>\n      <td>224</td>\n      <td>301</td>\n      <td>98</td>\n      <td>576</td>\n      <td>390</td>\n      <td>823</td>\n      <td>896</td>\n      <td>705</td>\n      <td>415</td>\n      <td>239</td>\n      <td>461</td>\n      <td>383</td>\n      <td>525</td>\n    </tr>\n    <tr>\n      <th>999</th>\n      <td>366</td>\n      <td>294</td>\n      <td>41</td>\n      <td>233</td>\n      <td>379</td>\n      <td>474</td>\n      <td>327</td>\n      <td>588</td>\n      <td>50</td>\n      <td>698</td>\n      <td>362</td>\n      <td>511</td>\n      <td>220</td>\n      <td>803</td>\n      <td>438</td>\n      <td>919</td>\n    </tr>\n  </tbody>\n</table>\n<p>1000 rows × 16 columns</p>\n</div>"
     },
     "execution_count": 19,
     "metadata": {},
     "output_type": "execute_result"
    }
   ],
   "source": [
    "import pandas as pd\n",
    "import numpy as np\n",
    "\n",
    "# Definir las cabeceras\n",
    "cabeceras = ['feelings', 'lifestyle', 'body', 'movement', 'nutrition', \n",
    "             'obesity', 'sleep', 'wellness', 'stress', 'depression', \n",
    "             'platform', 'indulgences', 'mindfulness', 'smoking','drive',\"activity\"]\n",
    "\n",
    "# Configurar los parámetros de la distribución normal\n",
    "media = 600  # media de la distribución normal\n",
    "desviacion_estandar =300  # desviación estándar de la distribución normal\n",
    "\n",
    "# Generar valores siguiendo una distribución normal\n",
    "valores = np.random.normal(loc=media, scale=desviacion_estandar, size=(10000, len(cabeceras)))\n",
    "\n",
    "# Limitar los valores al rango de 1 a 1000\n",
    "valores = np.clip(valores, 1, 1000)\n",
    "\n",
    "# Crear el DataFrame\n",
    "df = pd.DataFrame(valores, columns=cabeceras)\n",
    "\n",
    "# Redondear los valores al entero más cercano\n",
    "df = df.round(0).astype(int)\n",
    "\n",
    "# Mostrar el DataFrame\n",
    "df.head(1000)\n"
   ]
  },
  {
   "cell_type": "code",
   "execution_count": 22,
   "outputs": [
    {
     "data": {
      "text/plain": "     feelings  lifestyle  body  movement  nutrition  obesity  sleep  wellness  \\\n0         877        542   318         1        922      332    654        74   \n1         826       1000   531       861        691      319    705       332   \n2           1        545   678       817        127      662    710       746   \n3         458        402   793       516        394      617    420         1   \n4        1000        968    64       716        883      221   1000       596   \n..        ...        ...   ...       ...        ...      ...    ...       ...   \n995       975        800   540       396        779     1000    556      1000   \n996         1          1   734       176        430      479    667       635   \n997       359        340   541       518        102     1000    398       803   \n998       619        720   703       224        301       98    576       390   \n999       366        294    41       233        379      474    327       588   \n\n     stress  depression  platform  indulgences  mindfulness  smoking  drive  \\\n0       936         336       829          414         1000      167    746   \n1       599         788       728          634          745     1000   1000   \n2      1000         984       439          620          351      743   1000   \n3       725         488       394          583          419      332    594   \n4       529         349       883         1000          906      850    466   \n..      ...         ...       ...          ...          ...      ...    ...   \n995     354         514       172          787         1000      608   1000   \n996     364         877       642          117          369      436    505   \n997     136         648       548         1000          502      902   1000   \n998     823         896       705          415          239      461    383   \n999      50         698       362          511          220      803    438   \n\n     activity     score  \n0         495  540.1875  \n1         101  678.7500  \n2        1000  651.4375  \n3         200  458.5000  \n4         709  696.2500  \n..        ...       ...  \n995       207  668.0000  \n996      1000  464.5625  \n997       639  589.7500  \n998       525  504.8750  \n999       919  418.9375  \n\n[1000 rows x 17 columns]",
      "text/html": "<div>\n<style scoped>\n    .dataframe tbody tr th:only-of-type {\n        vertical-align: middle;\n    }\n\n    .dataframe tbody tr th {\n        vertical-align: top;\n    }\n\n    .dataframe thead th {\n        text-align: right;\n    }\n</style>\n<table border=\"1\" class=\"dataframe\">\n  <thead>\n    <tr style=\"text-align: right;\">\n      <th></th>\n      <th>feelings</th>\n      <th>lifestyle</th>\n      <th>body</th>\n      <th>movement</th>\n      <th>nutrition</th>\n      <th>obesity</th>\n      <th>sleep</th>\n      <th>wellness</th>\n      <th>stress</th>\n      <th>depression</th>\n      <th>platform</th>\n      <th>indulgences</th>\n      <th>mindfulness</th>\n      <th>smoking</th>\n      <th>drive</th>\n      <th>activity</th>\n      <th>score</th>\n    </tr>\n  </thead>\n  <tbody>\n    <tr>\n      <th>0</th>\n      <td>877</td>\n      <td>542</td>\n      <td>318</td>\n      <td>1</td>\n      <td>922</td>\n      <td>332</td>\n      <td>654</td>\n      <td>74</td>\n      <td>936</td>\n      <td>336</td>\n      <td>829</td>\n      <td>414</td>\n      <td>1000</td>\n      <td>167</td>\n      <td>746</td>\n      <td>495</td>\n      <td>540.1875</td>\n    </tr>\n    <tr>\n      <th>1</th>\n      <td>826</td>\n      <td>1000</td>\n      <td>531</td>\n      <td>861</td>\n      <td>691</td>\n      <td>319</td>\n      <td>705</td>\n      <td>332</td>\n      <td>599</td>\n      <td>788</td>\n      <td>728</td>\n      <td>634</td>\n      <td>745</td>\n      <td>1000</td>\n      <td>1000</td>\n      <td>101</td>\n      <td>678.7500</td>\n    </tr>\n    <tr>\n      <th>2</th>\n      <td>1</td>\n      <td>545</td>\n      <td>678</td>\n      <td>817</td>\n      <td>127</td>\n      <td>662</td>\n      <td>710</td>\n      <td>746</td>\n      <td>1000</td>\n      <td>984</td>\n      <td>439</td>\n      <td>620</td>\n      <td>351</td>\n      <td>743</td>\n      <td>1000</td>\n      <td>1000</td>\n      <td>651.4375</td>\n    </tr>\n    <tr>\n      <th>3</th>\n      <td>458</td>\n      <td>402</td>\n      <td>793</td>\n      <td>516</td>\n      <td>394</td>\n      <td>617</td>\n      <td>420</td>\n      <td>1</td>\n      <td>725</td>\n      <td>488</td>\n      <td>394</td>\n      <td>583</td>\n      <td>419</td>\n      <td>332</td>\n      <td>594</td>\n      <td>200</td>\n      <td>458.5000</td>\n    </tr>\n    <tr>\n      <th>4</th>\n      <td>1000</td>\n      <td>968</td>\n      <td>64</td>\n      <td>716</td>\n      <td>883</td>\n      <td>221</td>\n      <td>1000</td>\n      <td>596</td>\n      <td>529</td>\n      <td>349</td>\n      <td>883</td>\n      <td>1000</td>\n      <td>906</td>\n      <td>850</td>\n      <td>466</td>\n      <td>709</td>\n      <td>696.2500</td>\n    </tr>\n    <tr>\n      <th>...</th>\n      <td>...</td>\n      <td>...</td>\n      <td>...</td>\n      <td>...</td>\n      <td>...</td>\n      <td>...</td>\n      <td>...</td>\n      <td>...</td>\n      <td>...</td>\n      <td>...</td>\n      <td>...</td>\n      <td>...</td>\n      <td>...</td>\n      <td>...</td>\n      <td>...</td>\n      <td>...</td>\n      <td>...</td>\n    </tr>\n    <tr>\n      <th>995</th>\n      <td>975</td>\n      <td>800</td>\n      <td>540</td>\n      <td>396</td>\n      <td>779</td>\n      <td>1000</td>\n      <td>556</td>\n      <td>1000</td>\n      <td>354</td>\n      <td>514</td>\n      <td>172</td>\n      <td>787</td>\n      <td>1000</td>\n      <td>608</td>\n      <td>1000</td>\n      <td>207</td>\n      <td>668.0000</td>\n    </tr>\n    <tr>\n      <th>996</th>\n      <td>1</td>\n      <td>1</td>\n      <td>734</td>\n      <td>176</td>\n      <td>430</td>\n      <td>479</td>\n      <td>667</td>\n      <td>635</td>\n      <td>364</td>\n      <td>877</td>\n      <td>642</td>\n      <td>117</td>\n      <td>369</td>\n      <td>436</td>\n      <td>505</td>\n      <td>1000</td>\n      <td>464.5625</td>\n    </tr>\n    <tr>\n      <th>997</th>\n      <td>359</td>\n      <td>340</td>\n      <td>541</td>\n      <td>518</td>\n      <td>102</td>\n      <td>1000</td>\n      <td>398</td>\n      <td>803</td>\n      <td>136</td>\n      <td>648</td>\n      <td>548</td>\n      <td>1000</td>\n      <td>502</td>\n      <td>902</td>\n      <td>1000</td>\n      <td>639</td>\n      <td>589.7500</td>\n    </tr>\n    <tr>\n      <th>998</th>\n      <td>619</td>\n      <td>720</td>\n      <td>703</td>\n      <td>224</td>\n      <td>301</td>\n      <td>98</td>\n      <td>576</td>\n      <td>390</td>\n      <td>823</td>\n      <td>896</td>\n      <td>705</td>\n      <td>415</td>\n      <td>239</td>\n      <td>461</td>\n      <td>383</td>\n      <td>525</td>\n      <td>504.8750</td>\n    </tr>\n    <tr>\n      <th>999</th>\n      <td>366</td>\n      <td>294</td>\n      <td>41</td>\n      <td>233</td>\n      <td>379</td>\n      <td>474</td>\n      <td>327</td>\n      <td>588</td>\n      <td>50</td>\n      <td>698</td>\n      <td>362</td>\n      <td>511</td>\n      <td>220</td>\n      <td>803</td>\n      <td>438</td>\n      <td>919</td>\n      <td>418.9375</td>\n    </tr>\n  </tbody>\n</table>\n<p>1000 rows × 17 columns</p>\n</div>"
     },
     "execution_count": 22,
     "metadata": {},
     "output_type": "execute_result"
    }
   ],
   "source": [
    "\n",
    "# Calcula el promedio de cada fila\n",
    "promedios_filas = df.mean(axis=1)\n",
    "\n",
    "# Añade los promedios como una nueva columna en el DataFrame\n",
    "df['score'] = promedios_filas\n",
    "\n",
    "# Guarda el resultado en un nuevo archivo CSV (opcional)\n",
    "df.to_csv('archivo_con_promedios.csv', index=False)\n",
    "\n",
    "# Muestra los resultados\n",
    "\n",
    "nombre_archivo = 'datos_salud.csv'\n",
    "df.to_csv(nombre_archivo, index=False)\n",
    "df.head(1000)"
   ],
   "metadata": {
    "collapsed": false,
    "ExecuteTime": {
     "end_time": "2024-06-23T16:25:59.551465100Z",
     "start_time": "2024-06-23T16:25:59.273714400Z"
    }
   },
   "id": "361bc9028eb0a5b8"
  }
 ],
 "metadata": {
  "kernelspec": {
   "display_name": "Python 3",
   "language": "python",
   "name": "python3"
  },
  "language_info": {
   "codemirror_mode": {
    "name": "ipython",
    "version": 2
   },
   "file_extension": ".py",
   "mimetype": "text/x-python",
   "name": "python",
   "nbconvert_exporter": "python",
   "pygments_lexer": "ipython2",
   "version": "2.7.6"
  }
 },
 "nbformat": 4,
 "nbformat_minor": 5
}
